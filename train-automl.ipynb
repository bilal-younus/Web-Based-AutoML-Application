{
 "cells": [
  {
   "cell_type": "code",
   "execution_count": null,
   "id": "9aab5e1e",
   "metadata": {},
   "outputs": [],
   "source": [
    "import os\n",
    "import shutil\n",
    "import pandas as pd\n",
    "import mercury as mr\n",
    "from supervised.automl import AutoML \n",
    "import numpy as np\n",
    "import matplotlib.pyplot as plt\n",
    "import shap\n",
    "import joblib\n",
    "from sklearn.model_selection import train_test_split\n",
    "from sklearn.preprocessing import LabelEncoder\n",
    "from sklearn.metrics import classification_report, confusion_matrix, accuracy_score, roc_auc_score, ConfusionMatrixDisplay\n",
    "from transformers import DistilBertTokenizerFast, DistilBertForSequenceClassification, Trainer, TrainingArguments\n",
    "from datasets import Dataset\n",
    "from IPython.display import Image, display\n",
    "import torch\n"
   ]
  },
  {
   "cell_type": "code",
   "execution_count": 2,
   "id": "d7009f5f",
   "metadata": {},
   "outputs": [],
   "source": [
    "import warnings\n",
    "warnings.filterwarnings(\"ignore\")"
   ]
  },
  {
   "cell_type": "code",
   "execution_count": 3,
   "id": "6313fc0d",
   "metadata": {},
   "outputs": [
    {
     "data": {
      "application/mercury+json": {
       "allow_download": true,
       "code_uid": "App.0.40.25.1-randfee23f4b",
       "continuous_update": true,
       "description": "Train ML pipeline with MLJAR AutoML",
       "full_screen": true,
       "model_id": "mercury-app",
       "notify": "{}",
       "output": "app",
       "schedule": "",
       "show_code": false,
       "show_prompt": false,
       "show_sidebar": true,
       "static_notebook": false,
       "stop_on_error": false,
       "title": "Train AutoML 🧑‍💻",
       "widget": "App"
      },
      "text/html": [
       "<h3>Mercury Application</h3><small>This output won't appear in the web app.</small>"
      ],
      "text/plain": [
       "mercury.App"
      ]
     },
     "metadata": {},
     "output_type": "display_data"
    }
   ],
   "source": [
    "app = mr.App(title=\"Train AutoML 🧑‍💻\", description=\"Train ML pipeline with MLJAR AutoML\")"
   ]
  },
  {
   "cell_type": "markdown",
   "id": "6d62fe00",
   "metadata": {},
   "source": [
    "# Train Machine Learning Pipeline with MLJAR AutoML\n",
    "Please follow the steps:\n",
    "1. Upload CSV file with data. Data should heave column names in the first line.\n",
    "2. Select input features and target column.\n",
    "3. Select AutoML training mode, algorithms and training time limit.\n",
    "4. Directory with all ML models will be zipped and available to download."
   ]
  },
  {
   "cell_type": "code",
   "execution_count": 4,
   "id": "aafac626",
   "metadata": {},
   "outputs": [
    {
     "data": {
      "application/mercury+json": {
       "code_uid": "File.0.40.18.1-rand74e7cef0",
       "disabled": false,
       "hidden": false,
       "label": "Upload CSV with training data",
       "max_file_size": "1MB",
       "model_id": "0d0815292051454cb67184fa96a7d7d5",
       "widget": "File"
      },
      "application/vnd.jupyter.widget-view+json": {
       "model_id": "0d0815292051454cb67184fa96a7d7d5",
       "version_major": 2,
       "version_minor": 0
      },
      "text/plain": [
       "mercury.File"
      ]
     },
     "metadata": {},
     "output_type": "display_data"
    }
   ],
   "source": [
    "data_file = mr.File(label=\"Upload CSV with training data\", max_file_size=\"1MB\")"
   ]
  },
  {
   "cell_type": "code",
   "execution_count": null,
   "id": "a10c00e3",
   "metadata": {},
   "outputs": [],
   "source": [
    "data_file.filename"
   ]
  },
  {
   "cell_type": "code",
   "execution_count": null,
   "id": "87307aa6",
   "metadata": {},
   "outputs": [],
   "source": [
    "if data_file.filename is None:\n",
    "    mr.Stop()\n",
    "\n",
    "# Load Data\n",
    "if data_file.filename.endswith(\".csv\"):\n",
    "    df = pd.read_csv(data_file.filepath)\n",
    "elif data_file.filename.endswith((\".xls\", \".xlsx\")):\n",
    "    df = pd.read_excel(data_file.filepath, engine='openpyxl')\n",
    "else:\n",
    "    raise ValueError(\"Unsupported file format. Please upload .csv or .xlsx\")\n",
    "\n",
    "mr.Markdown(\"### Uploaded Data\")\n",
    "df.head()"
   ]
  },
  {
   "cell_type": "code",
   "execution_count": null,
   "id": "700e76c5",
   "metadata": {},
   "outputs": [],
   "source": [
    "def detect_data_type(df):\n",
    "    # Prefer \"text\" column explicitly if present\n",
    "    if 'text' in df.columns:\n",
    "        return \"nlp\", \"text\"\n",
    "    # Otherwise check if any object column has avg length > 20\n",
    "    for col in df.columns:\n",
    "        if df[col].dtype == object:\n",
    "            avg_len = df[col].dropna().map(lambda x: len(str(x))).mean()\n",
    "            if avg_len and avg_len > 20:\n",
    "                return \"nlp\", col\n",
    "    return \"tabular\", None\n",
    "\n",
    "data_type, text_column = detect_data_type(df)"
   ]
  },
  {
   "cell_type": "code",
   "execution_count": null,
   "id": "d4ac094f",
   "metadata": {},
   "outputs": [],
   "source": [
    "if data_type == \"nlp\":\n",
    "    label_column = [col for col in df.columns if col != text_column][0]\n",
    "    df = df[[text_column, label_column]].dropna()\n",
    "\n",
    "    # Encode labels\n",
    "    le = LabelEncoder()\n",
    "    df[label_column] = le.fit_transform(df[label_column])\n",
    "\n",
    "    # Tokenize and prepare dataset\n",
    "    tokenizer = DistilBertTokenizerFast.from_pretrained(\"distilbert-base-uncased\")\n",
    "    dataset = Dataset.from_pandas(df)\n",
    "\n",
    "    def tokenize_function(examples):\n",
    "        return tokenizer(examples[text_column], truncation=True, padding=\"max_length\", max_length=128)\n",
    "\n",
    "    tokenized_dataset = dataset.map(tokenize_function, batched=True)\n",
    "    tokenized_dataset = tokenized_dataset.rename_column(label_column, \"labels\")\n",
    "    tokenized_dataset.set_format(type='torch', columns=['input_ids', 'attention_mask', 'labels'])\n",
    "\n",
    "    # Split train/test\n",
    "    train_test = tokenized_dataset.train_test_split(test_size=0.2)\n",
    "    train_ds = train_test[\"train\"]\n",
    "    test_ds = train_test[\"test\"]\n",
    "\n",
    "    # Model setup\n",
    "    model = DistilBertForSequenceClassification.from_pretrained(\n",
    "        \"distilbert-base-uncased\",\n",
    "        num_labels=len(set(df[label_column]))\n",
    "    )\n",
    "\n",
    "    training_args = TrainingArguments(\n",
    "        output_dir=\"./nlp_model\",\n",
    "        evaluation_strategy=\"epoch\",\n",
    "        num_train_epochs=2,\n",
    "        per_device_train_batch_size=8,\n",
    "        save_strategy=\"no\",\n",
    "        logging_dir=\"./logs\",\n",
    "        logging_steps=10,\n",
    "        disable_tqdm=False,\n",
    "    )\n",
    "\n",
    "    trainer = Trainer(\n",
    "        model=model,\n",
    "        args=training_args,\n",
    "        train_dataset=train_ds,\n",
    "        eval_dataset=test_ds,\n",
    "    )\n",
    "\n",
    "    trainer.train()\n",
    "\n",
    "    # Evaluation\n",
    "    predictions = trainer.predict(test_ds)\n",
    "    preds = np.argmax(predictions.predictions, axis=-1)\n",
    "    y_true = predictions.label_ids\n",
    "    acc = accuracy_score(y_true, preds)\n",
    "    cm = confusion_matrix(y_true, preds)\n",
    "    report = classification_report(y_true, preds, output_dict=True)\n",
    "    class_names = le.classes_\n",
    "\n",
    "    mr.Markdown(\"### NLP Classification Report\")\n",
    "    mr.Markdown(f\"- Accuracy: **{acc:.4f}**\")\n",
    "    mr.Markdown(f\"- Labels: {list(class_names)}\")\n",
    "\n",
    "    fig, ax = plt.subplots(figsize=(6,6))\n",
    "    ConfusionMatrixDisplay(cm, display_labels=class_names).plot(ax=ax, cmap=\"Blues\", values_format='d')\n",
    "    plt.title(\"Confusion Matrix\")\n",
    "    plt.tight_layout()\n",
    "    plt.savefig(\"confusion_matrix_nlp.png\")\n",
    "    mr.Image(\"confusion_matrix_nlp.png\")\n",
    "\n",
    "    # Save model + label encoder\n",
    "    model_path = \"best_model_nlp\"\n",
    "    model.save_pretrained(model_path)\n",
    "    tokenizer.save_pretrained(model_path)\n",
    "    joblib.dump(le, os.path.join(model_path, \"label_encoder.pkl\"))\n",
    "\n",
    "    shutil.make_archive(model_path, \"zip\", model_path)\n",
    "    mr.File(label=\"Download Best NLP Model (.zip)\", path=model_path + \".zip\")\n",
    "# ─────────────────────────────────────────────────────────────────────────────\n",
    "# TABULAR CLASSIFICATION\n",
    "# ─────────────────────────────────────────────────────────────────────────────\n",
    "\n",
    "elif data_type == \"tabular\":\n",
    "    x_columns = mr.MultiSelect(label=\"Select input features\", \n",
    "                               value=list(df.columns)[:-1], choices=list(df.columns))\n",
    "    y_column = mr.Select(label=\"Select target column\", \n",
    "                         value=list(df.columns)[-1], choices=list(df.columns))\n",
    "\n",
    "    if x_columns.value is None or len(x_columns.value) == 0 or y_column.value is None:\n",
    "        mr.Markdown(\"Please select input features and target column.\")\n",
    "        mr.Stop()\n",
    "\n",
    "    # Mode and Algo Selection\n",
    "    mode = mr.Select(label=\"AutoML Mode\", value=\"Explain\", choices=[\"Explain\", \"Perform\", \"Compete\"])\n",
    "    algos = {\n",
    "        \"Explain\": [\"Baseline\", \"Linear\", \"Decision Tree\", \"Random Forest\", \"Xgboost\", \"Neural Network\"],\n",
    "        \"Perform\": [\"Linear\", \"Random Forest\", \"LightGBM\", \"Xgboost\", \"CatBoost\", \"Neural Network\"],\n",
    "        \"Compete\": [\"Decision Tree\", \"Random Forest\", \"Extra Trees\", \"LightGBM\", \n",
    "                    \"Xgboost\", \"CatBoost\", \"Neural Network\", \"Nearest Neighbors\"]\n",
    "    }\n",
    "    algorithms = mr.MultiSelect(label=\"Algorithms\", value=algos[mode.value], choices=algos[mode.value])\n",
    "    time_limit = mr.Select(label=\"Time limit (seconds)\", value=\"60\", choices=[\"60\", \"120\", \"240\", \"300\"])\n",
    "    start_training = mr.Button(label=\"Start training\", style=\"success\")\n",
    "    output_dir = mr.OutputDir()\n",
    "\n",
    "    automl = AutoML(mode=mode.value, algorithms=algorithms.value,\n",
    "                    total_time_limit=int(time_limit.value))\n",
    "\n",
    "    if start_training.clicked:\n",
    "        mr.Markdown(\"### AutoML Training Logs\")\n",
    "        automl.fit(df[x_columns.value], df[y_column.value])\n",
    "\n",
    "        # Save and zip model\n",
    "        output_filename = os.path.join(output_dir.path, automl._results_path)\n",
    "        shutil.make_archive(output_filename, 'zip', automl._results_path)\n",
    "        # mr.File(label=\"Download Best Tabular Model (.zip)\", file=output_filename + \".zip\")\n",
    "\n",
    "\n",
    "        # SHAP Explanation (only for tree-based models)\n",
    "        try:\n",
    "            X_sample = df[x_columns.value].sample(100)\n",
    "            explainer = shap.Explainer(automl._best_model.model, X_sample)\n",
    "            shap_values = explainer(X_sample)\n",
    "            fig = shap.plots.beeswarm(shap_values, show=False)\n",
    "            plt.tight_layout()\n",
    "            plt.savefig(\"shap_plot.png\")\n",
    "            mr.Image(\"shap_plot.png\")\n",
    "        except Exception as e:\n",
    "            mr.Markdown(f\"SHAP Explanation skipped: {e}\")\n",
    "\n",
    "        # Metrics\n",
    "        X_train, X_test, y_train, y_test = train_test_split(\n",
    "            df[x_columns.value], df[y_column.value], test_size=0.2, random_state=42)\n",
    "        y_pred = automl.predict(X_test)\n",
    "        acc = accuracy_score(y_test, y_pred)\n",
    "        mr.Markdown(f\"### Accuracy of best model: **{acc:.4f}**\")\n",
    "        cm = confusion_matrix(y_test, y_pred)\n",
    "        fig, ax = plt.subplots(figsize=(6,6))\n",
    "        ConfusionMatrixDisplay(cm).plot(ax=ax, cmap=\"Blues\", values_format='d')\n",
    "        plt.title(\"Confusion Matrix\")\n",
    "        plt.tight_layout()\n",
    "        plt.savefig(\"confusion_matrix_tabular.png\")\n",
    "        display(Image(filename=\"confusion_matrix_tabular.png\"))\n",
    "\n",
    "        automl.report()"
   ]
  }
 ],
 "metadata": {
  "kernelspec": {
   "display_name": "appenv",
   "language": "python",
   "name": "appenv"
  },
  "language_info": {
   "codemirror_mode": {
    "name": "ipython",
    "version": 3
   },
   "file_extension": ".py",
   "mimetype": "text/x-python",
   "name": "python",
   "nbconvert_exporter": "python",
   "pygments_lexer": "ipython3",
   "version": "3.8.10"
  }
 },
 "nbformat": 4,
 "nbformat_minor": 5
}
